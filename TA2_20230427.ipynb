{
 "cells": [
  {
   "cell_type": "markdown",
   "id": "39441412",
   "metadata": {},
   "source": [
    "### GitHub и система контроля версий"
   ]
  },
  {
   "cell_type": "markdown",
   "id": "42345055",
   "metadata": {},
   "source": [
    "1. Сделать форк от этой репки\n",
    "2. Сделать тестовое\n",
    "3. Создать мерж ревест с твоего форка на мою репку.\n",
    "\n",
    "Принцип тестового следующий - \n",
    "Работаем в пайчарме, пишем в питоне или тетрадке, на выбор</p> Результат выполненой работы - тестовые данные выгружены из json и положены в поднятую базу,\n",
    "к ним написаны sql запросы, результат каждого запроса распечатан."
   ]
  },
  {
   "cell_type": "markdown",
   "id": "2129e829",
   "metadata": {},
   "source": [
    "***\n",
    "**FORK** - это копия репозитория (branch в Git) </p> Вилка — это новый репозиторий, который совместно использует параметры кода и видимости с исходным \"вышестоящим\" репозиторием.<p> Программное обеспечение с открытым кодом строится на той идее, что, предоставляя общий доступ к коду, мы можем создавать более надежное и эффективное ПО."
   ]
  },
  {
   "cell_type": "markdown",
   "id": "db13476d",
   "metadata": {},
   "source": [
    "pull request - запрос на слияние репозитория измененного и оригинального репозитория"
   ]
  },
  {
   "cell_type": "markdown",
   "id": "c16b1737",
   "metadata": {},
   "source": [
    "***\n",
    "# Тестовое задание:\n",
    "\n",
    "На основании данных необходимо считать следующий набор метрик:\n",
    "\n",
    "* Количество показов и уникальных пользователей за день в разрезе по платформам, в том числе по всем платформам суммарно;\n",
    "* Количество за день уникальных авторов и уникального контента, показанного в ленте;\n",
    "* Количество сессий, средняя глубина просмотра (по позиции фида) и средняя продолжительность пользовательской сессии в ленте за день.\n",
    "\n",
    "Напишите алгоритмы / запросы для их расчета.\n",
    "\n",
    "Если это необходимо – допускается создание промежуточных объектов.\n",
    "\n",
    "### Описание данных\n",
    "Данные по показам в ленте. Одна строчка – показ одного «фида» в ленте.\n",
    "\n",
    "Фидом называем один логический элемент\n",
    "Описание полей:\n",
    "\n",
    "* durationMs – время в течение которого пользователь видел фид\n",
    "* position – позиция в ленте на которой был показан фид\n",
    "* owners – создатели контента в фиде\n",
    "* resources – ссылки на ID контента, содержащегося в фиде\n",
    "\n",
    "\n",
    "\n",
    "\n"
   ]
  },
  {
   "cell_type": "markdown",
   "id": "32a30c3b",
   "metadata": {},
   "source": [
    "json - это формат обмена данными, которые можно передать с клиента на сервер и с сервера на клиент. Используется для связи между приложениями. Используется при API rest."
   ]
  },
  {
   "cell_type": "code",
   "execution_count": 1,
   "id": "4353cedc",
   "metadata": {},
   "outputs": [],
   "source": [
    "import json\n",
    "import pandas as pd\n",
    "import datetime\n",
    "import numpy as np\n",
    "from typing import List, Union\n",
    "from datetime import datetime as dt\n"
   ]
  },
  {
   "cell_type": "code",
   "execution_count": 2,
   "id": "58a3735b",
   "metadata": {},
   "outputs": [],
   "source": [
    "file = 'feeds_show.json'"
   ]
  },
  {
   "cell_type": "code",
   "execution_count": 3,
   "id": "996107d4",
   "metadata": {},
   "outputs": [],
   "source": [
    "# read json file into DataFrame:\n",
    "data = [json.loads(line) for line in open(file, 'r')]\n",
    "df = pd.DataFrame(data)"
   ]
  },
  {
   "cell_type": "code",
   "execution_count": 4,
   "id": "40520ee0",
   "metadata": {},
   "outputs": [],
   "source": [
    "#convert timestamp to date:\n",
    "df['timestamp'] = df['timestamp']\\\n",
    "                        .apply(lambda x: datetime.datetime.fromtimestamp(int(x)/1000).strftime(\"%Y-%m-%d %H:%M:%S\"))\n",
    "\n",
    "df['timestamp'] = pd.to_datetime(df.timestamp,format='%Y-%m-%d %H:%M:%S')\n",
    "\n",
    "df['Date'] = df['timestamp'].dt.date"
   ]
  },
  {
   "cell_type": "code",
   "execution_count": 5,
   "id": "a7414ed4",
   "metadata": {},
   "outputs": [],
   "source": [
    "columns_df = ['userId', 'platform', 'durationMs', 'position', 'Date', 'timestamp', 'owners','resources' ]\n",
    "df = df.reindex(columns=columns_df)"
   ]
  },
  {
   "cell_type": "code",
   "execution_count": 6,
   "id": "b77c8c5a",
   "metadata": {},
   "outputs": [],
   "source": [
    "columns = ['userId', 'platform', 'durationMs', 'position', 'Date', 'timestamp', '_owners', 'owners_values', 'resources']\n",
    "\n",
    "#function convert json to pandas dataframe #1 with users\n",
    "def get_df_users(df: pd.DataFrame, columns: List[str] ) -> pd.DataFrame:\n",
    "    for index, row in df.iterrows():\n",
    "        for elem in row['owners']:\n",
    "\n",
    "            key   = elem\n",
    "            values = row['owners'][elem]\n",
    "            for value in values:\n",
    "\n",
    "                df.at[index,'_owners']=key    \n",
    "                df.at[index,'owners_values']=value        \n",
    "\n",
    "        \n",
    "    return df[columns] \n",
    "    "
   ]
  },
  {
   "cell_type": "code",
   "execution_count": 7,
   "id": "bd7df584",
   "metadata": {},
   "outputs": [
    {
     "name": "stdout",
     "output_type": "stream",
     "text": [
      "Time of creating Table 'users' is 0:00:05.925363\n"
     ]
    }
   ],
   "source": [
    "start = dt.now()\n",
    "df_users = get_df_users(df, columns)\n",
    "total_duration = dt.now() - start\n",
    "print(f\"Time of creating Table 'users' is {total_duration}\") "
   ]
  },
  {
   "cell_type": "code",
   "execution_count": 8,
   "id": "d1d45267",
   "metadata": {},
   "outputs": [],
   "source": [
    "df_users_sql = df_users.iloc[:,:8]\n"
   ]
  },
  {
   "cell_type": "code",
   "execution_count": 9,
   "id": "e2aa988f",
   "metadata": {},
   "outputs": [],
   "source": [
    "df_resources = df_users[['Date','timestamp', '_owners','owners_values', 'resources']]\n",
    "columns_resources = ['Date', 'timestamp', '_owners','owners_values', 'resources', 'resources_id' ]\n",
    "#df_input = pd.DataFrame(columns=columns_resources)\n",
    "list_input=[]\n",
    "\n",
    "#function convert json to pandas dataframe #2 with resources\n",
    "def get_df_resources(df: pd.DataFrame ) -> pd.DataFrame:\n",
    "    for index, row in df_resources.iterrows():\n",
    "        for elem in row['resources']:\n",
    "\n",
    "            key   = elem\n",
    "            values = row['resources'][elem]\n",
    "            for value in values:\n",
    "                new_row = {'Date': row['Date'],\n",
    "                           'timestamp': row['timestamp'],\n",
    "                           '_owners': row['_owners'],\n",
    "                           'owners_values': row['owners_values'],\n",
    "                           'resources': key,\n",
    "                           'resources_id': value}\n",
    "                list_input.append(new_row)\n",
    "\n",
    "                #df_input.loc[len(df_input.index)] = new_row \n",
    "    return pd.DataFrame(list_input, columns = columns_resources)\n",
    "            \n",
    "\n"
   ]
  },
  {
   "cell_type": "code",
   "execution_count": 10,
   "id": "385d22c6",
   "metadata": {},
   "outputs": [
    {
     "name": "stdout",
     "output_type": "stream",
     "text": [
      "Time of creating Table 'resources' is 0:00:05.373226\n"
     ]
    }
   ],
   "source": [
    "start = dt.now()\n",
    "df_resources_sql = get_df_resources(df_resources)\n",
    "total_duration = dt.now() - start\n",
    "print(f\"Time of creating Table 'resources' is {total_duration}\") "
   ]
  },
  {
   "cell_type": "code",
   "execution_count": null,
   "id": "201eb137",
   "metadata": {},
   "outputs": [],
   "source": []
  },
  {
   "cell_type": "markdown",
   "id": "8e5a5187",
   "metadata": {},
   "source": [
    "#### Connecting to PostgreSQL Database using SQLAlchemy in Python"
   ]
  },
  {
   "cell_type": "code",
   "execution_count": 11,
   "id": "09f44bb8",
   "metadata": {},
   "outputs": [],
   "source": [
    "import psycopg2\n",
    "import psycopg2.extras\n",
    "from bs4 import BeautifulSoup\n",
    "import sys\n",
    "import warnings\n",
    "if not sys.warnoptions:\n",
    "       warnings.simplefilter(\"ignore\")\n",
    "\n",
    "from sqlalchemy import create_engine"
   ]
  },
  {
   "cell_type": "code",
   "execution_count": 12,
   "id": "40fec7f6",
   "metadata": {},
   "outputs": [],
   "source": [
    "#### Connecting to PostgreSQL Database using SQLAlchemy in Python\n",
    "\n",
    "# DEFINE THE DATABASE CREDENTIALS\n",
    "user = 'postgres'\n",
    "password = '123456'\n",
    "host = 'localhost'\n",
    "port = 5432\n",
    "database = 'db_test'"
   ]
  },
  {
   "cell_type": "code",
   "execution_count": 13,
   "id": "14a891e9",
   "metadata": {},
   "outputs": [],
   "source": [
    "# CONNECTION TO DB\n",
    "try:\n",
    "    conn = psycopg2.connect (\n",
    "        host = host,\n",
    "        dbname = database,\n",
    "        user = user,\n",
    "        password = password,\n",
    "        port = port)\n",
    "    #conn.close()\n",
    "except Exception as error:\n",
    "    print(error)"
   ]
  },
  {
   "cell_type": "code",
   "execution_count": 14,
   "id": "583b1304",
   "metadata": {},
   "outputs": [],
   "source": [
    "cur = conn.cursor(cursor_factory = psycopg2.extras.DictCursor)\n"
   ]
  },
  {
   "cell_type": "code",
   "execution_count": 15,
   "id": "41d0c878",
   "metadata": {},
   "outputs": [
    {
     "name": "stdout",
     "output_type": "stream",
     "text": [
      "Connection to the localhost for user postgres created successfully.\n"
     ]
    }
   ],
   "source": [
    "# PYTHON FUNCTION TO CONNECT TO THE POSTGRESQL DATABASE AND\n",
    "# RETURN THE SQLACHEMY ENGINE OBJECT\n",
    "def get_connection():\n",
    "    return create_engine(\n",
    "        url=\"postgresql://{0}:{1}@{2}:{3}/{4}\".format(\n",
    "            user, password, host, port, database\n",
    "        )\n",
    "    )\n",
    " \n",
    "\n",
    "if __name__ == '__main__':\n",
    " \n",
    "    try:\n",
    "        # GET THE CONNECTION OBJECT (ENGINE) FOR THE DATABASE\n",
    "        engine = get_connection()\n",
    "        print(\n",
    "            f\"Connection to the {host} for user {user} created successfully.\")\n",
    "    except Exception as ex:\n",
    "        print(\"Connection could not be made due to the following error: \\n\", ex)\n",
    "\n"
   ]
  },
  {
   "cell_type": "code",
   "execution_count": 16,
   "id": "a885962e",
   "metadata": {},
   "outputs": [
    {
     "data": {
      "text/plain": [
       "318"
      ]
     },
     "execution_count": 16,
     "metadata": {},
     "output_type": "execute_result"
    }
   ],
   "source": [
    "# download postgresql table\n",
    "data = df_users_sql\n",
    "data.to_sql('df_users_sql', engine, if_exists='replace')"
   ]
  },
  {
   "cell_type": "code",
   "execution_count": 17,
   "id": "c3e41523",
   "metadata": {},
   "outputs": [
    {
     "data": {
      "text/plain": [
       "968"
      ]
     },
     "execution_count": 17,
     "metadata": {},
     "output_type": "execute_result"
    }
   ],
   "source": [
    "# download postgresql table\n",
    "data = df_resources_sql\n",
    "data.to_sql('df_resources_sql', engine, if_exists='replace')"
   ]
  },
  {
   "cell_type": "code",
   "execution_count": null,
   "id": "fb5160b2",
   "metadata": {},
   "outputs": [],
   "source": []
  },
  {
   "cell_type": "markdown",
   "id": "dc8fa449",
   "metadata": {},
   "source": [
    "***\n",
    "## Quering Data in PostgreSQL"
   ]
  },
  {
   "cell_type": "markdown",
   "id": "fe45fa3d",
   "metadata": {},
   "source": [
    "#### Количество показов и уникальных пользователей за день в разрезе по платформам, в том числе по всем платформам суммарно"
   ]
  },
  {
   "cell_type": "code",
   "execution_count": 18,
   "id": "d506a95d",
   "metadata": {},
   "outputs": [],
   "source": [
    "query_1 = \"\"\"\n",
    "\n",
    "\n",
    "with CTE as \n",
    "(\n",
    "\tSELECT \n",
    "\ta.\"Date\" as date,\n",
    "\ta.platform as platform,\n",
    "\tcount(a.index) as views_,\n",
    "\tcount(distinct a.\"userId\")  as unique_users\n",
    "\n",
    "\tFROM public.df_users_sql a\n",
    "\tgroup by a.\"Date\", a.platform\n",
    "\torder by 1,2 \n",
    ")\n",
    "select \n",
    "\tdate, \n",
    "\tplatform,\n",
    "\tviews_,\n",
    "\tsum(views_) over (partition by date) as views_by_day,\n",
    "\tunique_users,\n",
    "\tsum(unique_users) over (partition by date) as unique_users_by_day\n",
    "from CTE\n",
    "\"\"\""
   ]
  },
  {
   "cell_type": "code",
   "execution_count": 19,
   "id": "f9e5bfb1",
   "metadata": {},
   "outputs": [
    {
     "data": {
      "text/html": [
       "<div>\n",
       "<style scoped>\n",
       "    .dataframe tbody tr th:only-of-type {\n",
       "        vertical-align: middle;\n",
       "    }\n",
       "\n",
       "    .dataframe tbody tr th {\n",
       "        vertical-align: top;\n",
       "    }\n",
       "\n",
       "    .dataframe thead th {\n",
       "        text-align: right;\n",
       "    }\n",
       "</style>\n",
       "<table border=\"1\" class=\"dataframe\">\n",
       "  <thead>\n",
       "    <tr style=\"text-align: right;\">\n",
       "      <th></th>\n",
       "      <th>date</th>\n",
       "      <th>platform</th>\n",
       "      <th>views_</th>\n",
       "      <th>views_by_day</th>\n",
       "      <th>unique_users</th>\n",
       "      <th>unique_users_by_day</th>\n",
       "    </tr>\n",
       "  </thead>\n",
       "  <tbody>\n",
       "    <tr>\n",
       "      <th>0</th>\n",
       "      <td>2019-09-12</td>\n",
       "      <td>APP_ANDROID</td>\n",
       "      <td>18078</td>\n",
       "      <td>31230.0</td>\n",
       "      <td>109</td>\n",
       "      <td>200.0</td>\n",
       "    </tr>\n",
       "    <tr>\n",
       "      <th>1</th>\n",
       "      <td>2019-09-12</td>\n",
       "      <td>APP_IOS</td>\n",
       "      <td>2378</td>\n",
       "      <td>31230.0</td>\n",
       "      <td>23</td>\n",
       "      <td>200.0</td>\n",
       "    </tr>\n",
       "    <tr>\n",
       "      <th>2</th>\n",
       "      <td>2019-09-12</td>\n",
       "      <td>APP_WINPHONE</td>\n",
       "      <td>247</td>\n",
       "      <td>31230.0</td>\n",
       "      <td>1</td>\n",
       "      <td>200.0</td>\n",
       "    </tr>\n",
       "    <tr>\n",
       "      <th>3</th>\n",
       "      <td>2019-09-12</td>\n",
       "      <td>DESKTOP_WEB</td>\n",
       "      <td>9177</td>\n",
       "      <td>31230.0</td>\n",
       "      <td>52</td>\n",
       "      <td>200.0</td>\n",
       "    </tr>\n",
       "    <tr>\n",
       "      <th>4</th>\n",
       "      <td>2019-09-12</td>\n",
       "      <td>MOBILE_WEB</td>\n",
       "      <td>1350</td>\n",
       "      <td>31230.0</td>\n",
       "      <td>15</td>\n",
       "      <td>200.0</td>\n",
       "    </tr>\n",
       "    <tr>\n",
       "      <th>5</th>\n",
       "      <td>2019-09-13</td>\n",
       "      <td>APP_ANDROID</td>\n",
       "      <td>1793</td>\n",
       "      <td>3088.0</td>\n",
       "      <td>30</td>\n",
       "      <td>47.0</td>\n",
       "    </tr>\n",
       "    <tr>\n",
       "      <th>6</th>\n",
       "      <td>2019-09-13</td>\n",
       "      <td>APP_IOS</td>\n",
       "      <td>92</td>\n",
       "      <td>3088.0</td>\n",
       "      <td>4</td>\n",
       "      <td>47.0</td>\n",
       "    </tr>\n",
       "    <tr>\n",
       "      <th>7</th>\n",
       "      <td>2019-09-13</td>\n",
       "      <td>DESKTOP_WEB</td>\n",
       "      <td>1175</td>\n",
       "      <td>3088.0</td>\n",
       "      <td>11</td>\n",
       "      <td>47.0</td>\n",
       "    </tr>\n",
       "    <tr>\n",
       "      <th>8</th>\n",
       "      <td>2019-09-13</td>\n",
       "      <td>MOBILE_WEB</td>\n",
       "      <td>28</td>\n",
       "      <td>3088.0</td>\n",
       "      <td>2</td>\n",
       "      <td>47.0</td>\n",
       "    </tr>\n",
       "  </tbody>\n",
       "</table>\n",
       "</div>"
      ],
      "text/plain": [
       "         date      platform  views_  views_by_day  unique_users  \\\n",
       "0  2019-09-12   APP_ANDROID   18078       31230.0           109   \n",
       "1  2019-09-12       APP_IOS    2378       31230.0            23   \n",
       "2  2019-09-12  APP_WINPHONE     247       31230.0             1   \n",
       "3  2019-09-12   DESKTOP_WEB    9177       31230.0            52   \n",
       "4  2019-09-12    MOBILE_WEB    1350       31230.0            15   \n",
       "5  2019-09-13   APP_ANDROID    1793        3088.0            30   \n",
       "6  2019-09-13       APP_IOS      92        3088.0             4   \n",
       "7  2019-09-13   DESKTOP_WEB    1175        3088.0            11   \n",
       "8  2019-09-13    MOBILE_WEB      28        3088.0             2   \n",
       "\n",
       "   unique_users_by_day  \n",
       "0                200.0  \n",
       "1                200.0  \n",
       "2                200.0  \n",
       "3                200.0  \n",
       "4                200.0  \n",
       "5                 47.0  \n",
       "6                 47.0  \n",
       "7                 47.0  \n",
       "8                 47.0  "
      ]
     },
     "execution_count": 19,
     "metadata": {},
     "output_type": "execute_result"
    }
   ],
   "source": [
    "pd.read_sql_query(query_1, conn)"
   ]
  },
  {
   "cell_type": "markdown",
   "id": "c4aaa53a",
   "metadata": {},
   "source": [
    "#### Количество за день уникальных авторов и уникального контента, показанного в ленте"
   ]
  },
  {
   "cell_type": "code",
   "execution_count": 22,
   "id": "da920322",
   "metadata": {},
   "outputs": [],
   "source": [
    "query_2 = \"\"\"\n",
    "\n",
    "\n",
    "with CTE as\n",
    "(\n",
    "SELECT t1.\"Date\", t1.\"_owners\", t1.\"owners_values\", t2.\"resources\", t2.\"resources_id\" \n",
    "FROM public.df_users_sql t1 LEFT JOIN public.df_resources_sql t2 \n",
    "ON t1.\"owners_values\" = t2.\"owners_values\" and t1.\"timestamp\" = t2.\"timestamp\"\n",
    ")\n",
    "\t\tselect \n",
    "\t\t\ta.\"Date\",\n",
    "\t\t\tcount(distinct a.\"owners_values\") as unique_owners,\n",
    "\t\t\tcount(distinct a.\"resources_id\") as unique_content\n",
    "\t\tfrom CTE a\n",
    "\t\t\tgroup by a.\"Date\"\n",
    "            \n",
    "\"\"\""
   ]
  },
  {
   "cell_type": "code",
   "execution_count": 23,
   "id": "308e6416",
   "metadata": {},
   "outputs": [
    {
     "data": {
      "text/html": [
       "<div>\n",
       "<style scoped>\n",
       "    .dataframe tbody tr th:only-of-type {\n",
       "        vertical-align: middle;\n",
       "    }\n",
       "\n",
       "    .dataframe tbody tr th {\n",
       "        vertical-align: top;\n",
       "    }\n",
       "\n",
       "    .dataframe thead th {\n",
       "        text-align: right;\n",
       "    }\n",
       "</style>\n",
       "<table border=\"1\" class=\"dataframe\">\n",
       "  <thead>\n",
       "    <tr style=\"text-align: right;\">\n",
       "      <th></th>\n",
       "      <th>Date</th>\n",
       "      <th>unique_owners</th>\n",
       "      <th>unique_content</th>\n",
       "    </tr>\n",
       "  </thead>\n",
       "  <tbody>\n",
       "    <tr>\n",
       "      <th>0</th>\n",
       "      <td>2019-09-12</td>\n",
       "      <td>10274</td>\n",
       "      <td>38905</td>\n",
       "    </tr>\n",
       "    <tr>\n",
       "      <th>1</th>\n",
       "      <td>2019-09-13</td>\n",
       "      <td>1264</td>\n",
       "      <td>5526</td>\n",
       "    </tr>\n",
       "  </tbody>\n",
       "</table>\n",
       "</div>"
      ],
      "text/plain": [
       "         Date  unique_owners  unique_content\n",
       "0  2019-09-12          10274           38905\n",
       "1  2019-09-13           1264            5526"
      ]
     },
     "execution_count": 23,
     "metadata": {},
     "output_type": "execute_result"
    }
   ],
   "source": [
    "pd.read_sql_query(query_2, conn)"
   ]
  },
  {
   "cell_type": "markdown",
   "id": "a8241276",
   "metadata": {},
   "source": [
    "#### Количество сессий, средняя глубина просмотра (по позиции фида) и средняя продолжительность пользовательской сессии в ленте за день."
   ]
  },
  {
   "cell_type": "markdown",
   "id": "4f8a10cd",
   "metadata": {},
   "source": [
    "Глубина просмотра (или посещения) сайта — это среднее число просмотров контента сайта пользователями за одно посещение"
   ]
  },
  {
   "cell_type": "code",
   "execution_count": 26,
   "id": "3984fb9f",
   "metadata": {},
   "outputs": [],
   "source": [
    "query_3 = \"\"\"\n",
    "\n",
    "SELECT \n",
    "\ta.\"Date\",\n",
    "\ta.\"position\",\n",
    "\tcount(a.index) as count_session,\n",
    "\tcount(a.index)/count( distinct a.\"userId\") as avg_sesion_by_user_sec,\n",
    "    round(sum(a.\"durationMs\")/count( distinct a.\"userId\")/1000) as avg_sesion_by_user_sec\n",
    "\n",
    "FROM public.df_users_sql a\n",
    "group by a.\"Date\", a.\"position\"\n",
    "order by a.\"Date\", a.\"position\"\n",
    "\n",
    "\n",
    "\"\"\""
   ]
  },
  {
   "cell_type": "code",
   "execution_count": 28,
   "id": "5549366a",
   "metadata": {
    "scrolled": true
   },
   "outputs": [
    {
     "data": {
      "text/html": [
       "<div>\n",
       "<style scoped>\n",
       "    .dataframe tbody tr th:only-of-type {\n",
       "        vertical-align: middle;\n",
       "    }\n",
       "\n",
       "    .dataframe tbody tr th {\n",
       "        vertical-align: top;\n",
       "    }\n",
       "\n",
       "    .dataframe thead th {\n",
       "        text-align: right;\n",
       "    }\n",
       "</style>\n",
       "<table border=\"1\" class=\"dataframe\">\n",
       "  <thead>\n",
       "    <tr style=\"text-align: right;\">\n",
       "      <th></th>\n",
       "      <th>Date</th>\n",
       "      <th>position</th>\n",
       "      <th>count_session</th>\n",
       "      <th>avg_sesion_by_user_sec</th>\n",
       "      <th>avg_sesion_by_user_sec</th>\n",
       "    </tr>\n",
       "  </thead>\n",
       "  <tbody>\n",
       "    <tr>\n",
       "      <th>0</th>\n",
       "      <td>2019-09-12</td>\n",
       "      <td>1.0</td>\n",
       "      <td>859</td>\n",
       "      <td>4</td>\n",
       "      <td>521.0</td>\n",
       "    </tr>\n",
       "    <tr>\n",
       "      <th>1</th>\n",
       "      <td>2019-09-12</td>\n",
       "      <td>2.0</td>\n",
       "      <td>658</td>\n",
       "      <td>4</td>\n",
       "      <td>323.0</td>\n",
       "    </tr>\n",
       "    <tr>\n",
       "      <th>2</th>\n",
       "      <td>2019-09-12</td>\n",
       "      <td>3.0</td>\n",
       "      <td>580</td>\n",
       "      <td>3</td>\n",
       "      <td>116.0</td>\n",
       "    </tr>\n",
       "    <tr>\n",
       "      <th>3</th>\n",
       "      <td>2019-09-12</td>\n",
       "      <td>4.0</td>\n",
       "      <td>553</td>\n",
       "      <td>3</td>\n",
       "      <td>331.0</td>\n",
       "    </tr>\n",
       "    <tr>\n",
       "      <th>4</th>\n",
       "      <td>2019-09-12</td>\n",
       "      <td>5.0</td>\n",
       "      <td>509</td>\n",
       "      <td>3</td>\n",
       "      <td>43.0</td>\n",
       "    </tr>\n",
       "    <tr>\n",
       "      <th>5</th>\n",
       "      <td>2019-09-12</td>\n",
       "      <td>6.0</td>\n",
       "      <td>489</td>\n",
       "      <td>3</td>\n",
       "      <td>95.0</td>\n",
       "    </tr>\n",
       "    <tr>\n",
       "      <th>6</th>\n",
       "      <td>2019-09-12</td>\n",
       "      <td>7.0</td>\n",
       "      <td>482</td>\n",
       "      <td>3</td>\n",
       "      <td>43.0</td>\n",
       "    </tr>\n",
       "    <tr>\n",
       "      <th>7</th>\n",
       "      <td>2019-09-12</td>\n",
       "      <td>8.0</td>\n",
       "      <td>477</td>\n",
       "      <td>3</td>\n",
       "      <td>50.0</td>\n",
       "    </tr>\n",
       "    <tr>\n",
       "      <th>8</th>\n",
       "      <td>2019-09-12</td>\n",
       "      <td>9.0</td>\n",
       "      <td>496</td>\n",
       "      <td>3</td>\n",
       "      <td>36.0</td>\n",
       "    </tr>\n",
       "    <tr>\n",
       "      <th>9</th>\n",
       "      <td>2019-09-12</td>\n",
       "      <td>10.0</td>\n",
       "      <td>526</td>\n",
       "      <td>3</td>\n",
       "      <td>501.0</td>\n",
       "    </tr>\n",
       "  </tbody>\n",
       "</table>\n",
       "</div>"
      ],
      "text/plain": [
       "         Date  position  count_session  avg_sesion_by_user_sec  \\\n",
       "0  2019-09-12       1.0            859                       4   \n",
       "1  2019-09-12       2.0            658                       4   \n",
       "2  2019-09-12       3.0            580                       3   \n",
       "3  2019-09-12       4.0            553                       3   \n",
       "4  2019-09-12       5.0            509                       3   \n",
       "5  2019-09-12       6.0            489                       3   \n",
       "6  2019-09-12       7.0            482                       3   \n",
       "7  2019-09-12       8.0            477                       3   \n",
       "8  2019-09-12       9.0            496                       3   \n",
       "9  2019-09-12      10.0            526                       3   \n",
       "\n",
       "   avg_sesion_by_user_sec  \n",
       "0                   521.0  \n",
       "1                   323.0  \n",
       "2                   116.0  \n",
       "3                   331.0  \n",
       "4                    43.0  \n",
       "5                    95.0  \n",
       "6                    43.0  \n",
       "7                    50.0  \n",
       "8                    36.0  \n",
       "9                   501.0  "
      ]
     },
     "execution_count": 28,
     "metadata": {},
     "output_type": "execute_result"
    }
   ],
   "source": [
    "pd.read_sql_query(query_3, conn).head(10)"
   ]
  },
  {
   "cell_type": "code",
   "execution_count": null,
   "id": "23a85479",
   "metadata": {},
   "outputs": [],
   "source": []
  }
 ],
 "metadata": {
  "kernelspec": {
   "display_name": "Python 3 (ipykernel)",
   "language": "python",
   "name": "python3"
  },
  "language_info": {
   "codemirror_mode": {
    "name": "ipython",
    "version": 3
   },
   "file_extension": ".py",
   "mimetype": "text/x-python",
   "name": "python",
   "nbconvert_exporter": "python",
   "pygments_lexer": "ipython3",
   "version": "3.10.9"
  }
 },
 "nbformat": 4,
 "nbformat_minor": 5
}
